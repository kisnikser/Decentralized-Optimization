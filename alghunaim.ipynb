{
 "cells": [
  {
   "cell_type": "markdown",
   "id": "eb80c1d3",
   "metadata": {},
   "source": [
    "# Importing"
   ]
  },
  {
   "cell_type": "code",
   "execution_count": 19,
   "id": "0204c45e",
   "metadata": {},
   "outputs": [],
   "source": [
    "import numpy as np\n",
    "from matplotlib import pyplot as plt\n",
    "from scipy.linalg import block_diag\n",
    "import cvxpy as cp\n",
    "\n",
    "import networkx as nx\n",
    "\n",
    "from random import choice\n",
    "\n",
    "from numpy.linalg import inv, pinv\n",
    "\n",
    "plt.rcParams.update({'font.size': 14})"
   ]
  },
  {
   "cell_type": "markdown",
   "id": "38775c98",
   "metadata": {},
   "source": [
    "\\begin{align*}\n",
    "\\min_{w_1, \\ldots, w_K} & \\sum\\limits_{k=1}^{K} (w_k^\\top R_k w_k + r_k^\\top w_k) \\\\\n",
    "\\mathrm{s.t.} & \\sum\\limits_{k \\in N_e} B_{e, k} w_k = b_e, \\quad \\forall e = 1, \\ldots, E\n",
    "\\end{align*}"
   ]
  },
  {
   "cell_type": "markdown",
   "id": "beeeb6e3",
   "metadata": {},
   "source": [
    "# Constants"
   ]
  },
  {
   "cell_type": "code",
   "execution_count": 20,
   "id": "d0415b1a",
   "metadata": {},
   "outputs": [],
   "source": [
    "K = 20\n",
    "Q_k = 10\n",
    "\n",
    "R_array = []\n",
    "for k in range(K):\n",
    "    #R_k = np.random.randn(Q_k, Q_k)\n",
    "    #R_k = R_k.T @ R_k\n",
    "    #R_k = 2 * np.diag(np.ones(Q_k), k = 0) + np.diag(np.ones(Q_k-1), k = 1) + np.diag(np.ones(Q_k-1), k = -1)\n",
    "    #ev = np.linalg.eigvals(R_k)\n",
    "    #eva = [abs(x) for x in ev]\n",
    "    #print(max(eva) - min(eva))\n",
    "    R_k = 1.5 * np.identity(Q_k)\n",
    "    R_array.append(R_k)\n",
    "\n",
    "R_array = np.array(R_array)\n",
    "\n",
    "\n",
    "r_array = []\n",
    "for k in range(K):\n",
    "    r_k = np.random.randint(low = -2, high = 3, size = Q_k)\n",
    "    r_array.append(r_k)\n",
    "    \n",
    "\n",
    "b_e = np.random.randint(low = -1, high = 2, size = K)"
   ]
  },
  {
   "cell_type": "code",
   "execution_count": 21,
   "id": "602f6342",
   "metadata": {},
   "outputs": [],
   "source": [
    "S_e = 1\n",
    "\n",
    "G = [[0, 1, 0, 0, 1, 0, 0, 0, 0, 0, 0, 0, 0, 0, 0, 0, 0, 0, 0, 0],\n",
    "     [1, 0, 0, 0, 0, 0, 0, 0, 0, 0, 0, 0, 0, 0, 0, 0, 0, 0, 0, 0],\n",
    "     [0, 0, 0, 0, 0, 0, 0, 1, 0, 0, 1, 0, 0, 0, 1, 0, 0, 0, 0, 1],\n",
    "     [0, 0, 0, 0, 0, 0, 0, 0, 0, 0, 0, 1, 0, 1, 0, 0, 1, 0, 1, 0],\n",
    "     [1, 0, 0, 0, 0, 0, 0, 0, 0, 0, 0, 1, 0, 0, 0, 0, 0, 0, 0, 0],\n",
    "     [0, 0, 0, 0, 0, 0, 1, 0, 1, 0, 0, 0, 0, 0, 0, 0, 0, 0, 0, 0],\n",
    "     [0, 0, 0, 0, 0, 1, 0, 0, 1, 0, 0, 0, 0, 0, 0, 0, 0, 0, 1, 0],\n",
    "     [0, 0, 1, 0, 0, 0, 0, 0, 0, 0, 0, 0, 1, 0, 0, 0, 0, 0, 0, 0],\n",
    "     [0, 0, 0, 0, 0, 1, 1, 0, 0, 0, 0, 0, 0, 0, 0, 0, 0, 0, 0, 0],\n",
    "     [0, 0, 0, 0, 0, 0, 0, 0, 0, 0, 0, 0, 0, 1, 0, 1, 0, 1, 0, 0],\n",
    "     [0, 0, 1, 0, 0, 0, 0, 0, 0, 0, 0, 0, 0, 0, 0, 0, 0, 0, 0, 0],\n",
    "     [0, 0, 0, 1, 1, 0, 0, 0, 0, 0, 0, 0, 0, 0, 0, 0, 0, 0, 0, 0],\n",
    "     [0, 0, 0, 0, 0, 0, 0, 1, 0, 0, 0, 0, 0, 0, 0, 0, 1, 0, 0, 0],\n",
    "     [0, 0, 0, 1, 0, 0, 0, 0, 0, 1, 0, 0, 0, 0, 0, 0, 1, 0, 0, 0],\n",
    "     [0, 0, 1, 0, 0, 0, 0, 0, 0, 0, 0, 0, 0, 0, 0, 0, 0, 0, 0, 1],\n",
    "     [0, 0, 0, 0, 0, 0, 0, 0, 0, 1, 0, 0, 0, 0, 0, 0, 0, 1, 0, 0],\n",
    "     [0, 0, 0, 1, 0, 0, 0, 0, 0, 0, 0, 0, 1, 1, 0, 0, 0, 0, 0, 0],\n",
    "     [0, 0, 0, 0, 0, 0, 0, 0, 0, 1, 0, 0, 0, 0, 0, 1, 0, 0, 0, 0],\n",
    "     [0, 0, 0, 1, 0, 0, 1, 0, 0, 0, 0, 0, 0, 0, 0, 0, 0, 0, 0, 0],\n",
    "     [0, 0, 1, 0, 0, 0, 0, 0, 0, 0, 0, 0, 0, 0, 1, 0, 0, 0, 0, 0]]\n",
    "\n",
    "G = np.array(G)\n",
    "G_I = G + np.identity(K)\n",
    "N = [int(G_I.sum(axis=1)[i]) for i in range(K)]\n",
    "\n",
    "B_matrix = []\n",
    "for e in range(K):\n",
    "    B_array = []\n",
    "    for k in range(K):\n",
    "        if k in np.nonzero(G_I[e])[0]:\n",
    "            B_ek = np.random.randint(low = -2, high = 3, size = (S_e, Q_k))\n",
    "            B_array.append(B_ek)\n",
    "        else: \n",
    "            B_array.append(np.zeros((S_e, Q_k)))\n",
    "            \n",
    "    B_matrix.append(B_array)"
   ]
  },
  {
   "cell_type": "markdown",
   "id": "ba740b3c",
   "metadata": {},
   "source": [
    "# Solving via CVXPY"
   ]
  },
  {
   "cell_type": "code",
   "execution_count": 22,
   "id": "8cb34974",
   "metadata": {},
   "outputs": [],
   "source": [
    "w = cp.Variable(Q_k*K)\n",
    "\n",
    "R = block_diag(*R_array)\n",
    "r = np.hstack(tuple(r_array))\n",
    "\n",
    "func = cp.quad_form(w, R) + r @ w\n",
    "\n",
    "constraints = []\n",
    "for e in range(K):\n",
    "    constraints.append(np.hstack(tuple(B_matrix[e])) @ w == b_e[e])\n",
    "\n",
    "\n",
    "obj = cp.Minimize(func)\n",
    "\n",
    "prob = cp.Problem(obj, constraints)\n",
    "prob.solve()\n",
    "w_opt = w.value"
   ]
  },
  {
   "cell_type": "markdown",
   "id": "11025c12",
   "metadata": {},
   "source": [
    "# Dual Coupled Diffusion"
   ]
  },
  {
   "cell_type": "code",
   "execution_count": 23,
   "id": "4eed6d33",
   "metadata": {},
   "outputs": [],
   "source": [
    "E = K"
   ]
  },
  {
   "cell_type": "code",
   "execution_count": 24,
   "id": "07bca318",
   "metadata": {},
   "outputs": [],
   "source": [
    "def MetropolisWeights(E):\n",
    "    d = E.sum(axis=1)\n",
    "    W = np.zeros((E.shape[0], E.shape[1]))\n",
    "    for i in range(E.shape[0]):\n",
    "        for j in range(E.shape[1]):\n",
    "            if i == j:\n",
    "                continue\n",
    "            else:\n",
    "                if E[i][j] == 1:\n",
    "                    W[i][j] = 1 / (1 + max(d[i], d[j]))\n",
    "                else:\n",
    "                    W[i][j] = 0\n",
    "        W[i][i] = 1 - W[i].sum()\n",
    "    return W"
   ]
  },
  {
   "cell_type": "code",
   "execution_count": 25,
   "id": "b922b99c",
   "metadata": {},
   "outputs": [],
   "source": [
    "A_array = []\n",
    "\n",
    "for e in range(E):\n",
    "    lst_e = np.nonzero(G_I[e])[0]\n",
    "    A_e = MetropolisWeights(G[np.ix_(lst_e, lst_e)])\n",
    "    A_array.append(A_e)"
   ]
  },
  {
   "cell_type": "code",
   "execution_count": 26,
   "id": "968dc989",
   "metadata": {},
   "outputs": [
    {
     "data": {
      "text/plain": [
       "array([[0.33333333, 0.33333333, 0.33333333],\n",
       "       [0.33333333, 0.33333333, 0.33333333],\n",
       "       [0.33333333, 0.33333333, 0.33333333]])"
      ]
     },
     "execution_count": 26,
     "metadata": {},
     "output_type": "execute_result"
    }
   ],
   "source": [
    "MetropolisWeights(G[np.ix_(lst_e, lst_e)])"
   ]
  },
  {
   "cell_type": "code",
   "execution_count": 27,
   "id": "bfd77af2",
   "metadata": {},
   "outputs": [],
   "source": [
    "A_bar_array = []\n",
    "for e in range(K):\n",
    "    A_bar_array.append(np.kron(1/2*(np.identity(N[e]) + A_array[e]), np.identity(S_e)))\n",
    "    \n",
    "A_bar = block_diag(*A_bar_array)"
   ]
  },
  {
   "cell_type": "code",
   "execution_count": 28,
   "id": "9232a8fd",
   "metadata": {},
   "outputs": [],
   "source": [
    "B_bar_matrix = []\n",
    "for e in range(E):\n",
    "    B_bar_array = []\n",
    "    for k in range(K):\n",
    "        B = []\n",
    "        for k_bar in np.nonzero(G_I[e])[0]:\n",
    "            if k in np.nonzero(G_I[e])[0] and k == k_bar:\n",
    "                B.append(B_matrix[e][k].T)\n",
    "            else: \n",
    "                B.append(np.zeros((Q_k, S_e)))\n",
    "        B_bar_array.append(np.hstack(tuple(B)))\n",
    "    B_bar_matrix.append(B_bar_array)"
   ]
  },
  {
   "cell_type": "code",
   "execution_count": 29,
   "id": "bff30855",
   "metadata": {},
   "outputs": [],
   "source": [
    "B_bar_matrix_T = [[None for k in range(K)] for e in range(E)]\n",
    "\n",
    "for e in range(E):\n",
    "    for k in range(K):\n",
    "        B_bar_matrix_T[e][k] = B_bar_matrix[k][e]\n",
    "        \n",
    "B_T = np.block(B_bar_matrix_T)\n",
    "B = B_T.T"
   ]
  },
  {
   "cell_type": "code",
   "execution_count": 30,
   "id": "c376110a",
   "metadata": {},
   "outputs": [
    {
     "data": {
      "text/plain": [
       "(200, 66)"
      ]
     },
     "execution_count": 30,
     "metadata": {},
     "output_type": "execute_result"
    }
   ],
   "source": [
    "B_T.shape"
   ]
  },
  {
   "cell_type": "code",
   "execution_count": 37,
   "id": "af531484",
   "metadata": {},
   "outputs": [],
   "source": [
    "b = np.hstack(tuple([1/N[e]*(np.kron(np.ones(N[e]), b_e[e])) for e in range(E)]))"
   ]
  },
  {
   "cell_type": "code",
   "execution_count": 38,
   "id": "cfe8ed08",
   "metadata": {},
   "outputs": [],
   "source": [
    "def J(k, w_k):\n",
    "    return w_k @ R_array[k] @ w_k + r_array[k] @ w_k"
   ]
  },
  {
   "cell_type": "code",
   "execution_count": 39,
   "id": "70ae808f",
   "metadata": {},
   "outputs": [],
   "source": [
    "def grad_J(k, w_k):\n",
    "    return 2 * R_array[k] @ w_k + r_array[k]"
   ]
  },
  {
   "cell_type": "code",
   "execution_count": 40,
   "id": "6632e8b5",
   "metadata": {},
   "outputs": [],
   "source": [
    "def parse(w):\n",
    "    return [w[k*Q_k:(k+1)*Q_k] for k in range(K)]"
   ]
  },
  {
   "cell_type": "code",
   "execution_count": 41,
   "id": "4800b7c5",
   "metadata": {},
   "outputs": [],
   "source": [
    "def grad_J_bar(w):\n",
    "    lst_w_k = parse(w)\n",
    "    return np.hstack(tuple([grad_J(k, lst_w_k[k]) for k in range(K)]))"
   ]
  },
  {
   "cell_type": "code",
   "execution_count": 42,
   "id": "03dba74e",
   "metadata": {},
   "outputs": [],
   "source": [
    "def Dual_Coupled_Diffusion(mu_w = 0.1, mu_y = 0.2, wm1 = np.ones(Q_k*K), ym1 = np.ones(sum(N)), n_iter = 1000):\n",
    "    w0 = wm1 - mu_w * grad_J_bar(wm1) - mu_w * B_T @ ym1\n",
    "    y0 = ym1 + mu_y * (B @ w0 - b)\n",
    "    \n",
    "    w_i = np.zeros((n_iter, Q_k*K))\n",
    "    w_i[0] = wm1\n",
    "    w_i[1] = w0\n",
    "    y_i = np.zeros((n_iter, sum(N)))\n",
    "    y_i[0] = ym1\n",
    "    y_i[1] = y0\n",
    "    \n",
    "    for i in range(2, n_iter):\n",
    "        w_i[i] = w_i[i-1] - mu_w * grad_J_bar(w_i[i-1]) - mu_w * B_T @ y_i[i-1]\n",
    "        y_i[i] = A_bar @ (2*y_i[i-1] - y_i[i-2] + mu_y * B @ (w_i[i] - w_i[i-1]))\n",
    "    return w_i, y_i"
   ]
  },
  {
   "cell_type": "code",
   "execution_count": 43,
   "id": "1c405fbc",
   "metadata": {},
   "outputs": [],
   "source": [
    "w_i_DCD, y_i_DCD = Dual_Coupled_Diffusion(mu_w = 0.1, mu_y = 0.2, wm1 = np.ones(Q_k*K), ym1 = np.ones(sum(N)), n_iter = 1000)"
   ]
  },
  {
   "cell_type": "markdown",
   "id": "17a784b2",
   "metadata": {},
   "source": [
    "# Dual Diffusion"
   ]
  },
  {
   "cell_type": "code",
   "execution_count": 49,
   "id": "22b71a48",
   "metadata": {},
   "outputs": [],
   "source": [
    "E = 1\n",
    "S_e = 20"
   ]
  },
  {
   "cell_type": "code",
   "execution_count": 50,
   "id": "9c993e12",
   "metadata": {},
   "outputs": [],
   "source": [
    "# переделываем ограничение, теперь оно одно:\n",
    "B_stack_matrix = []\n",
    "for k in range(K):\n",
    "    B_stack_matrix.append(np.vstack(tuple([B_matrix[e][k] for e in range(K)])))"
   ]
  },
  {
   "cell_type": "code",
   "execution_count": 51,
   "id": "e5576dcd",
   "metadata": {},
   "outputs": [],
   "source": [
    "A_array = []\n",
    "\n",
    "A_e = MetropolisWeights(G)\n",
    "A_array.append(A_e)"
   ]
  },
  {
   "cell_type": "code",
   "execution_count": 52,
   "id": "6e17aa2c",
   "metadata": {},
   "outputs": [],
   "source": [
    "A_bar_array = []\n",
    "for e in range(E):\n",
    "    A_bar_array.append(np.kron(1/2*(np.identity(K) + A_array[e]), np.identity(S_e)))\n",
    "    \n",
    "A_bar = block_diag(*A_bar_array)"
   ]
  },
  {
   "cell_type": "code",
   "execution_count": 53,
   "id": "6059f3cd",
   "metadata": {},
   "outputs": [],
   "source": [
    "B_bar_matrix = []\n",
    "\n",
    "for k in range(K):\n",
    "    B = []\n",
    "    for k_bar in range(K):\n",
    "        if k in range(K) and k == k_bar:\n",
    "            B.append(B_stack_matrix[k].T)\n",
    "        else: \n",
    "            B.append(np.zeros((Q_k, S_e)))\n",
    "    B_bar_matrix.append(np.hstack(tuple(B)))"
   ]
  },
  {
   "cell_type": "code",
   "execution_count": 54,
   "id": "92ead9e8",
   "metadata": {},
   "outputs": [],
   "source": [
    "B_T = np.vstack(B_bar_matrix)\n",
    "B = B_T.T "
   ]
  },
  {
   "cell_type": "code",
   "execution_count": 55,
   "id": "c6e0b4a1",
   "metadata": {},
   "outputs": [],
   "source": [
    "b = 1/K*(np.kron(np.ones(K), b_e))"
   ]
  },
  {
   "cell_type": "code",
   "execution_count": 56,
   "id": "405081fc",
   "metadata": {},
   "outputs": [],
   "source": [
    "def Dual_Diffusion(mu_w = 0.1, mu_y = 0.2, wm1 = np.ones(Q_k*K), ym1 = np.ones(K*S_e), n_iter = 1000):\n",
    "    w0 = wm1 - mu_w * grad_J_bar(wm1) - mu_w * B_T @ ym1\n",
    "    y0 = ym1 + mu_y * (B @ w0 - b)\n",
    "    \n",
    "    w_i = np.zeros((n_iter, Q_k*K))\n",
    "    w_i[0] = wm1\n",
    "    w_i[1] = w0\n",
    "    y_i = np.zeros((n_iter, K*S_e))\n",
    "    y_i[0] = ym1\n",
    "    y_i[1] = y0\n",
    "    \n",
    "    for i in range(2, n_iter):\n",
    "        w_i[i] = w_i[i-1] - mu_w * grad_J_bar(w_i[i-1]) - mu_w * B_T @ y_i[i-1]\n",
    "        y_i[i] = A_bar @ (2*y_i[i-1] - y_i[i-2] + mu_y * B @ (w_i[i] - w_i[i-1]))\n",
    "    return w_i, y_i"
   ]
  },
  {
   "cell_type": "code",
   "execution_count": 27,
   "id": "ec045fec",
   "metadata": {},
   "outputs": [],
   "source": [
    "w_i_DD, y_i_DD = Dual_Diffusion(mu_w = 0.1, mu_y = 0.2, wm1 = np.ones(Q_k*K), ym1 = np.ones(K*S_e), n_iter = 1000)"
   ]
  },
  {
   "cell_type": "markdown",
   "id": "62b230fa",
   "metadata": {},
   "source": [
    "# Comparison"
   ]
  },
  {
   "cell_type": "code",
   "execution_count": 28,
   "id": "f3b89507",
   "metadata": {},
   "outputs": [
    {
     "data": {
      "text/plain": [
       "Text(0, 0.5, 'Squared error')"
      ]
     },
     "execution_count": 28,
     "metadata": {},
     "output_type": "execute_result"
    },
    {
     "data": {
      "image/png": "[encoded data removed]",
      "text/plain": [
       "<Figure size 900x600 with 1 Axes>"
      ]
     },
     "metadata": {},
     "output_type": "display_data"
    }
   ],
   "source": [
    "plt.figure(figsize=(9, 6))\n",
    "\n",
    "plt.plot(range(w_i_DD.shape[0]), [np.linalg.norm(w_i_DD[i] - w_opt)**2 for i in range(w_i_DD.shape[0])], \n",
    "         label = 'Dual Diffusion', color = 'coral')\n",
    "plt.plot(range(w_i_DCD.shape[0]), [np.linalg.norm(w_i_DCD[i] - w_opt)**2 for i in range(w_i_DCD.shape[0])], \n",
    "         label = 'Dual Coupled Diffusion', color = 'darkcyan')\n",
    "\n",
    "plt.xlim(0, 1000)\n",
    "plt.axhline(y = 1e-20, color = 'black', linestyle='--')\n",
    "plt.legend()\n",
    "plt.grid(alpha = 0.3)\n",
    "plt.yscale('log')\n",
    "plt.title(\"Primal variable\")\n",
    "plt.xlabel(\"i (iteration)\")\n",
    "plt.ylabel(\"Squared error\")"
   ]
  },
  {
   "cell_type": "markdown",
   "id": "692551af",
   "metadata": {},
   "source": [
    "# Proximal Dual Coupled Dissufion"
   ]
  },
  {
   "cell_type": "markdown",
   "id": "96def379",
   "metadata": {},
   "source": [
    "\\begin{align*}\n",
    "\\min_{w_1, \\ldots, w_K} & \\sum\\limits_{k=1}^{K} (w_k^\\top R_k w_k + r_k^\\top w_k) + \\mathcal{I}_{k}(w_k) \\\\\n",
    "\\mathrm{s.t.} & \\sum\\limits_{k \\in N_e} B_{e, k} w_k = b_e, \\quad \\forall e = 1, \\ldots, E\n",
    "\\end{align*}\n",
    "\n",
    "Actually, $\\mathcal{I}_{k}(\\cdot)$ doesn't have to be an indicator of a local constraints set. $\\mathcal{I}_{k}(\\cdot): \\mathbb{R}^{Q_k} \\to \\mathbb{R} \\cup \\{ + \\infty \\}$ is a convex function possibly non-smooth."
   ]
  },
  {
   "cell_type": "code",
   "execution_count": 44,
   "id": "caa2750a",
   "metadata": {},
   "outputs": [],
   "source": [
    "# CVXPY\n",
    "\n",
    "w = cp.Variable(Q_k*K)\n",
    "\n",
    "R = block_diag(*R_array)\n",
    "r = np.hstack(tuple(r_array))\n",
    "\n",
    "func = cp.quad_form(w, R) + r @ w\n",
    "\n",
    "constraints = [w >= -1,\n",
    "               w <= 1]\n",
    "\n",
    "for e in range(K):\n",
    "    constraints.append(np.hstack(tuple(B_matrix[e])) @ w == b_e[e])\n",
    "\n",
    "obj = cp.Minimize(func)\n",
    "\n",
    "prob = cp.Problem(obj, constraints)\n",
    "prob.solve()\n",
    "w_opt = w.value"
   ]
  },
  {
   "cell_type": "code",
   "execution_count": 45,
   "id": "bbe4f1b6",
   "metadata": {},
   "outputs": [],
   "source": [
    "def I(k, w_k):\n",
    "    if np.all(w_k <= 1) and np.all(w_k >= -1):\n",
    "        return 0\n",
    "    else:\n",
    "        return np.inf"
   ]
  },
  {
   "cell_type": "markdown",
   "id": "4854ccb7",
   "metadata": {},
   "source": [
    "$$\n",
    "\\mathrm{prox}_{\\mu I} (x) = \\arg\\min_{u} \\left( I(u) + \\dfrac{1}{2\\mu} \\| x - u \\|^2 \\right)\n",
    "$$\n",
    "\n",
    "In our case $\\mathcal{I}(w) = \\sum\\limits_{k=1}^{K} \\mathcal{I}_k (w_k)$ is an indicator of a cube $[-1, 1] \\times \\ldots \\times [-1, 1]$. Therefore, $\\mathrm{prox}$ is a projection on this cube."
   ]
  },
  {
   "cell_type": "code",
   "execution_count": 8,
   "id": "355f7fca",
   "metadata": {},
   "outputs": [],
   "source": [
    "def prox(x):\n",
    "    y = np.zeros(len(x))\n",
    "    for i in range(len(x)):\n",
    "        if x[i] < -1:\n",
    "            y[i] = -1\n",
    "        elif -1 <= x[i] <= 1:\n",
    "            y[i] = x[i]\n",
    "        elif x[i] > 1:\n",
    "            y[i] = 1\n",
    "    return y"
   ]
  },
  {
   "cell_type": "code",
   "execution_count": 47,
   "id": "abcb3a7c",
   "metadata": {},
   "outputs": [],
   "source": [
    "def Proximal_Dual_Coupled_Diffusion(mu_w = 0.1, mu_y = 0.2, wm1 = np.ones(Q_k*K), ym1 = np.ones(sum(N)), n_iter = 1000):\n",
    "    w0 = prox(wm1 - mu_w * grad_J_bar(wm1) - mu_w * B_T @ ym1)\n",
    "    y0 = ym1 + mu_y * (B @ w0 - b)\n",
    "    \n",
    "    w_i = np.zeros((n_iter, Q_k*K))\n",
    "    w_i[0] = wm1\n",
    "    w_i[1] = w0\n",
    "    y_i = np.zeros((n_iter, sum(N)))\n",
    "    y_i[0] = ym1\n",
    "    y_i[1] = y0\n",
    "    \n",
    "    for i in range(2, n_iter):\n",
    "        w_i[i] = prox(w_i[i-1] - mu_w * grad_J_bar(w_i[i-1]) - mu_w * B_T @ y_i[i-1])\n",
    "        y_i[i] = A_bar @ (2 * y_i[i-1] - y_i[i-2] + mu_y * B @ (w_i[i] - w_i[i-1]))\n",
    "    return w_i, y_i"
   ]
  },
  {
   "cell_type": "code",
   "execution_count": 48,
   "id": "88f2a2ca",
   "metadata": {},
   "outputs": [],
   "source": [
    "w_i_PDCD, y_i_PDCD = Proximal_Dual_Coupled_Diffusion(mu_w = 0.1, mu_y = 0.2, wm1 = np.ones(Q_k*K), ym1 = np.ones(sum(N)), n_iter = 1000)"
   ]
  },
  {
   "cell_type": "markdown",
   "id": "0d1a6e95",
   "metadata": {},
   "source": [
    "# Proximal Dual Diffusion"
   ]
  },
  {
   "cell_type": "code",
   "execution_count": 57,
   "id": "202d8265",
   "metadata": {},
   "outputs": [],
   "source": [
    "E = 1\n",
    "S_e = 20"
   ]
  },
  {
   "cell_type": "code",
   "execution_count": 58,
   "id": "44ca7b1c",
   "metadata": {},
   "outputs": [],
   "source": [
    "# переделываем ограничение, теперь оно одно:\n",
    "B_stack_matrix = []\n",
    "for k in range(K):\n",
    "    B_stack_matrix.append(np.vstack(tuple([B_matrix[e][k] for e in range(K)])))"
   ]
  },
  {
   "cell_type": "code",
   "execution_count": 59,
   "id": "56d22d40",
   "metadata": {},
   "outputs": [],
   "source": [
    "A_array = []\n",
    "\n",
    "A_e = MetropolisWeights(G)\n",
    "A_array.append(A_e)"
   ]
  },
  {
   "cell_type": "code",
   "execution_count": 60,
   "id": "ecbb6253",
   "metadata": {},
   "outputs": [],
   "source": [
    "A_bar_array = []\n",
    "for e in range(E):\n",
    "    A_bar_array.append(np.kron(1/2*(np.identity(K) + A_array[e]), np.identity(S_e)))\n",
    "    \n",
    "A_bar = block_diag(*A_bar_array)"
   ]
  },
  {
   "cell_type": "code",
   "execution_count": 61,
   "id": "d7fc7942",
   "metadata": {},
   "outputs": [],
   "source": [
    "B_bar_matrix = []\n",
    "\n",
    "for k in range(K):\n",
    "    B = []\n",
    "    for k_bar in range(K):\n",
    "        if k in range(K) and k == k_bar:\n",
    "            B.append(B_stack_matrix[k].T)\n",
    "        else: \n",
    "            B.append(np.zeros((Q_k, S_e)))\n",
    "    B_bar_matrix.append(np.hstack(tuple(B)))"
   ]
  },
  {
   "cell_type": "code",
   "execution_count": 62,
   "id": "50166b51",
   "metadata": {},
   "outputs": [],
   "source": [
    "B_T = np.vstack(B_bar_matrix)\n",
    "B = B_T.T "
   ]
  },
  {
   "cell_type": "code",
   "execution_count": 63,
   "id": "4ea7fd6b",
   "metadata": {},
   "outputs": [],
   "source": [
    "b = 1/K*(np.kron(np.ones(K), b_e))"
   ]
  },
  {
   "cell_type": "code",
   "execution_count": 64,
   "id": "9e97df23",
   "metadata": {},
   "outputs": [],
   "source": [
    "def Proximal_Dual_Diffusion(mu_w = 0.1, mu_y = 0.2, wm1 = np.ones(Q_k*K), ym1 = np.ones(K*S_e), n_iter = 1000):\n",
    "    w0 = prox(wm1 - mu_w * grad_J_bar(wm1) - mu_w * B_T @ ym1)\n",
    "    y0 = ym1 + mu_y * (B @ w0 - b)\n",
    "    \n",
    "    w_i = np.zeros((n_iter, Q_k*K))\n",
    "    w_i[0] = wm1\n",
    "    w_i[1] = w0\n",
    "    y_i = np.zeros((n_iter, K*S_e))\n",
    "    y_i[0] = ym1\n",
    "    y_i[1] = y0\n",
    "    \n",
    "    for i in range(2, n_iter):\n",
    "        w_i[i] = prox(w_i[i-1] - mu_w * grad_J_bar(w_i[i-1]) - mu_w * B_T @ y_i[i-1])\n",
    "        y_i[i] = A_bar @ (2*y_i[i-1] - y_i[i-2] + mu_y * B @ (w_i[i] - w_i[i-1]))\n",
    "    return w_i, y_i"
   ]
  },
  {
   "cell_type": "code",
   "execution_count": 65,
   "id": "09e3eba9",
   "metadata": {},
   "outputs": [],
   "source": [
    "w_i_PDD, y_i_PDD = Proximal_Dual_Diffusion(mu_w = 0.1, mu_y = 0.2, wm1 = np.ones(Q_k*K), ym1 = np.ones(K*S_e), n_iter = 1000)"
   ]
  },
  {
   "cell_type": "markdown",
   "id": "f3f0ae65",
   "metadata": {},
   "source": [
    "# Comparison"
   ]
  },
  {
   "cell_type": "code",
   "execution_count": 66,
   "id": "d854f8c7",
   "metadata": {},
   "outputs": [
    {
     "data": {
      "text/plain": [
       "Text(0, 0.5, 'Squared error')"
      ]
     },
     "execution_count": 66,
     "metadata": {},
     "output_type": "execute_result"
    },
    {
     "data": {
      "image/png": "[encoded data removed]",
      "text/plain": [
       "<Figure size 900x600 with 1 Axes>"
      ]
     },
     "metadata": {},
     "output_type": "display_data"
    }
   ],
   "source": [
    "plt.figure(figsize=(9, 6))\n",
    "\n",
    "plt.plot(range(w_i_PDD.shape[0]), [np.linalg.norm(w_i_PDD[i] - w_opt)**2 for i in range(w_i_PDD.shape[0])], \n",
    "         label = 'Proximal Dual Diffusion', color = 'coral')\n",
    "\n",
    "plt.plot(range(w_i_PDCD.shape[0]), [np.linalg.norm(w_i_PDCD[i] - w_opt)**2 for i in range(w_i_PDCD.shape[0])], \n",
    "         label = 'Proximal Dual Coupled Diffusion', color = 'darkcyan')\n",
    "\n",
    "#plt.xlim(0, 1000)\n",
    "plt.axhline(y = 1e-20, color = 'black', linestyle='--')\n",
    "plt.legend()\n",
    "plt.grid(alpha = 0.3)\n",
    "plt.yscale('log')\n",
    "plt.title(\"Primal variable\")\n",
    "plt.xlabel(\"i (iteration)\")\n",
    "plt.ylabel(\"Squared error\")"
   ]
  },
  {
   "cell_type": "markdown",
   "id": "04a8803f",
   "metadata": {},
   "source": [
    "# PJ-ADMM-LC"
   ]
  },
  {
   "cell_type": "code",
   "execution_count": 67,
   "id": "7a49732a",
   "metadata": {},
   "outputs": [],
   "source": [
    "N = 20 # number of agents\n",
    "H = 10 # dim x_n\n",
    "M = 20 # dim b\n",
    "\n",
    "#C = np.random.randint(low=100, size=(N*H, N*H))\n",
    "#C = C.T @ C + 100 * np.identity(N*H)\n",
    "C = R\n",
    "q = r\n",
    "\n",
    "A_array = B_stack_matrix\n",
    "\n",
    "A = np.block(B_matrix)\n",
    "b = b_e\n",
    "\n",
    "alpha = 1e-3\n",
    "\n",
    "Q_array = []\n",
    "\n",
    "for n in range(N):\n",
    "    Q_n = alpha * (N - 1) * (A_array[n].T @ A_array[n]) + 1 * np.identity(H)\n",
    "    #print(np.all(np.linalg.eigvals(Q_n) > 0))\n",
    "    Q_array.append(Q_n)\n",
    "\n",
    "Q_array = np.array(Q_array)"
   ]
  },
  {
   "cell_type": "code",
   "execution_count": 68,
   "id": "51748414",
   "metadata": {},
   "outputs": [],
   "source": [
    "def f(x):\n",
    "    return x @ C @ x + q @ x"
   ]
  },
  {
   "cell_type": "code",
   "execution_count": 69,
   "id": "ac9711e4",
   "metadata": {},
   "outputs": [],
   "source": [
    "def newton(theta_0: np.ndarray, n_iters: int, F, grad_F, hess_F):\n",
    "    #flog = []\n",
    "    theta = theta_0\n",
    "    hessian = hess_F(theta)\n",
    "    pinv_hessian = inv(hessian)\n",
    "    for _ in range(n_iters):\n",
    "        #flog.append(F(theta))\n",
    "        theta = prox(theta - pinv_hessian @ grad_F(theta))\n",
    "    return theta"
   ]
  },
  {
   "cell_type": "code",
   "execution_count": 70,
   "id": "874a270c",
   "metadata": {},
   "outputs": [],
   "source": [
    "def PJ_ADMM_LC(x0, l0, n_iter, P, tau, alpha, Q_array):\n",
    "\n",
    "    A_hat = block_diag(*A_array)\n",
    "    b_hat = np.kron(np.ones(N), b)\n",
    "    P_Ntau = np.kron(np.linalg.matrix_power(P, tau), np.identity(M))\n",
    "    I_NM = np.identity(N*M)\n",
    "    Q = block_diag(*Q_array)\n",
    "\n",
    "    x_k = np.zeros((n_iter, N*H))\n",
    "    l_k = np.zeros((n_iter, N*M))\n",
    "\n",
    "    x_k[0] = x0\n",
    "    l_k[0] = l0\n",
    "\n",
    "    k = 0\n",
    "\n",
    "    while k <= n_iter-2:\n",
    "\n",
    "        def F(x):\n",
    "            return f(x) + alpha / 2 * np.linalg.norm(A_hat @ x + (N * P_Ntau - I_NM) @ A_hat @ x_k[k] - b_hat + P_Ntau @ l_k[k] / alpha) ** 2 + 1 / 2 * (x - x_k[k]) @ Q @ (x - x_k[k])\n",
    "\n",
    "        def grad_F(x):\n",
    "            return (2*C + Q + alpha * A_hat.T @ A_hat) @ x + q + alpha * A_hat.T @ ((N * P_Ntau - I_NM) @ A_hat @ x_k[k] - b_hat + P_Ntau @ l_k[k] / alpha) - Q @ x_k[k]\n",
    "        \n",
    "        def hess_F(x):\n",
    "            return 2*C + Q + alpha * A_hat.T @ A_hat\n",
    "\n",
    "        x_k[k+1] = newton(x_k[k], 1, F, grad_F, hess_F)\n",
    "\n",
    "        l_k[k+1] = P_Ntau @ l_k[k] + alpha * (P_Ntau @ A_hat @ x_k[k] - b_hat)\n",
    "\n",
    "        k = k + 1\n",
    "\n",
    "    return x_k, l_k"
   ]
  },
  {
   "cell_type": "code",
   "execution_count": 71,
   "id": "b048c4b2",
   "metadata": {},
   "outputs": [],
   "source": [
    "w0 = np.ones(N*H)\n",
    "y0 = np.ones(N*M)\n",
    "n_iter = 1000\n",
    "P = MetropolisWeights(G)\n",
    "\n",
    "w_i_ADMM, y_i_ADMM = PJ_ADMM_LC(w0, y0, n_iter, P, 5, alpha, Q_array)"
   ]
  },
  {
   "cell_type": "code",
   "execution_count": 72,
   "id": "b3228391",
   "metadata": {},
   "outputs": [
    {
     "data": {
      "text/plain": [
       "Text(0, 0.5, 'Squared error')"
      ]
     },
     "execution_count": 72,
     "metadata": {},
     "output_type": "execute_result"
    },
    {
     "data": {
      "image/png": "[encoded data removed]",
      "text/plain": [
       "<Figure size 900x600 with 1 Axes>"
      ]
     },
     "metadata": {},
     "output_type": "display_data"
    }
   ],
   "source": [
    "plt.figure(figsize=(9, 6))\n",
    "\n",
    "#plt.plot(range(w_i_PDD.shape[0]), [np.linalg.norm(w_i_PDD[i] - w_opt)**2 for i in range(w_i_PDD.shape[0])], \n",
    "         #label = 'Proximal Dual Diffusion', color = 'coral')\n",
    "\n",
    "#plt.plot(range(w_i_PDCD.shape[0]), [np.linalg.norm(w_i_PDCD[i] - w_opt)**2 for i in range(w_i_PDCD.shape[0])], \n",
    "         #label = 'Proximal Dual Coupled Diffusion', color = 'darkcyan')\n",
    "\n",
    "plt.plot(range(w_i_ADMM.shape[0]), [np.linalg.norm(w_i_ADMM[i] - w_opt)**2 for i in range(w_i_ADMM.shape[0])], \n",
    "         label = 'PJ-ADMM-LC', color = 'royalblue')\n",
    "\n",
    "#plt.xlim(0, 1000)\n",
    "#plt.axhline(y = 1e-20, color = 'black', linestyle='--')\n",
    "plt.legend()\n",
    "plt.grid(alpha = 0.3)\n",
    "plt.yscale('log')\n",
    "plt.title(\"Primal variable\")\n",
    "plt.xlabel(\"i (iteration)\")\n",
    "plt.ylabel(\"Squared error\")"
   ]
  }
 ],
 "metadata": {
  "kernelspec": {
   "display_name": "Python 3 (ipykernel)",
   "language": "python",
   "name": "python3"
  },
  "language_info": {
   "codemirror_mode": {
    "name": "ipython",
    "version": 3
   },
   "file_extension": ".py",
   "mimetype": "text/x-python",
   "name": "python",
   "nbconvert_exporter": "python",
   "pygments_lexer": "ipython3",
   "version": "3.9.16"
  }
 },
 "nbformat": 4,
 "nbformat_minor": 5
}
