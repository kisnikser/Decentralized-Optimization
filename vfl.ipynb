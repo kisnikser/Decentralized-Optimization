{
 "cells": [
  {
   "cell_type": "code",
   "execution_count": null,
   "metadata": {},
   "outputs": [],
   "source": [
    "import numpy as np\n",
    "\n",
    "from models import VFL\n",
    "from methods import TrackingADMM, DPMM, APAPC, Main\n",
    "from utils import (\n",
    "    save_object,\n",
    "    load_object\n",
    ")\n",
    "\n",
    "\n",
    "from matplotlib import pyplot as plt\n",
    "\n",
    "myparams = {\n",
    "    'text.usetex': True,\n",
    "    'text.latex.preamble': r'\\usepackage{amsfonts}',\n",
    "    'font.family': 'Djvu Serif',\n",
    "    'font.size': 16,\n",
    "    'axes.grid': True,\n",
    "    'grid.alpha': 0.1,\n",
    "    'lines.linewidth': 2\n",
    "}\n",
    "\n",
    "plt.rcParams.update(myparams)\n",
    "\n",
    "%config InlineBackend.figure_format = \"retina\"\n",
    "%load_ext autoreload\n",
    "%autoreload 2"
   ]
  },
  {
   "cell_type": "markdown",
   "metadata": {},
   "source": [
    "# Numerical Experiment - VFL (Vertical Federative Learning)"
   ]
  },
  {
   "cell_type": "markdown",
   "metadata": {},
   "source": [
    "In case of VFL the data is partinioned by features, differing from usual (horizontal) federated learning, where the data is partitioned by samples.\n",
    "\n",
    "Let $\\mathbf{F}$ be the matrix of features, splitted vertically between compute nodes into submatrices $\\mathbf{F}_i$, so that each node possess its own subset of features for all data samples. \n",
    "Let $l$ denote the vector of labels, and let $w_i$ be the vector of model parameters owned by the $i$-th node.\n",
    "VFL problem formulates as\n",
    "\n",
    "$$ \\min_{w_1,\\ldots,w_n \\in \\mathbb{R}^d} \\ell(z, l) + \\sum_{i=1}^n r_i(w_i) \\quad \\text{s.t.} \\quad \\sum_{i=1}^n \\mathbf{F}_i w_i = z $$\n",
    "\n",
    "where $\\ell$ is a loss function, and $r_i$ are regulizers.\n",
    "Constraints are coupled constraints, and the objective is separable."
   ]
  },
  {
   "cell_type": "markdown",
   "metadata": {},
   "source": [
    "## Labels are stored in the first device"
   ]
  },
  {
   "cell_type": "markdown",
   "metadata": {},
   "source": [
    "We conduct experiments on the linear regression problem with MSE loss and L2 regularizer:\n",
    "\n",
    "$$ \\ell(z, l) = \\frac{1}{2} \\| z - l \\|_2^2 $$\n",
    "$$ r_i(w_i) = \\lambda \\| w_i \\|_2^2 $$\n",
    "\n",
    "Thus the problem is\n",
    "\n",
    "$$ \\min_{w \\in \\mathbb{R}^{nd}} F(w) = \\frac{1}{2} \\| \\mathbf{F}w - l \\|_2^2 + \\lambda \\| w \\|_2^2 = $$\n",
    "$$ = \\frac{1}{2} \\| \\sum\\limits_{i=1}^{n} \\mathbf{F}_i w_i - l \\|_2^2 + \\lambda \\sum\\limits_{i=1}^{n} \\| w_i \\|_2^2 $$ "
   ]
  },
  {
   "cell_type": "markdown",
   "metadata": {},
   "source": [
    "$$ x_1 = \\begin{pmatrix} w_1 \\\\ z \\end{pmatrix}, \\quad x_2 = w_2, \\quad \\ldots, \\quad x_n = w_n $$"
   ]
  },
  {
   "cell_type": "markdown",
   "metadata": {},
   "source": [
    "$$ f_1(x_1) = f_1(w_1, z) = \\frac{1}{2}\\|z - l\\|_2^2 + \\lambda \\|w_1\\|_2^2 $$\n",
    "$$ f_i(x_i) = f_i(w_i) = \\lambda \\|w_i\\|_2^2, \\quad i = 2, \\ldots, n $$"
   ]
  },
  {
   "cell_type": "markdown",
   "metadata": {},
   "source": [
    "$$ A_1 = \\begin{pmatrix} \\mathbf{F}_1 & -\\mathbf{I} \\end{pmatrix}, \\qquad A_1 x_1 = \\mathbf{F}_1 w_1 - z $$\n",
    "$$ A_i = \\mathbf{F}_i, \\quad i = 2, \\ldots, n, \\qquad \\sum\\limits_{i=1}^{n} A_i x_i = \\sum\\limits_{i=1}^{n} \\mathbf{F}_i w_i - z $$"
   ]
  },
  {
   "cell_type": "markdown",
   "metadata": {},
   "source": [
    "So we get the problem in our notation\n",
    "\n",
    "$$ \\min_{x} F(x) = \\sum\\limits_{i=1}^{n} f_i(x_i) $$\n",
    "$$ \\textrm{s.t.} \\quad \\sum\\limits_{i=1}^{n} A_i x_i = 0 $$ \n",
    "\n",
    "While the right-hand side\n",
    "\n",
    "$$ b_i = 0, \\quad i = 1, \\ldots, n $$"
   ]
  },
  {
   "cell_type": "code",
   "execution_count": null,
   "metadata": {},
   "outputs": [],
   "source": [
    "np.random.seed(307)\n",
    "\n",
    "# mushrooms (8124, 112)\n",
    "# a9a       (32561, 123)\n",
    "# w8a       (49749, 300)\n",
    "# synthetic (sample_size, sample_size // 100)\n",
    "lmbd = 1e0\n",
    "sample_size = 1000\n",
    "NUM_STEPS = 100\n",
    "n = 2\n",
    "title = 'mushrooms' # a9a / w8a / synthetic\n",
    "graph = 'erdos-renyi'\n",
    "average_degree = 1\n",
    "\n",
    "model = VFL(n, lmbd=lmbd, title=title, sample_size=sample_size, \n",
    "            graph=graph, edge_prob=average_degree/sample_size, gossip=False,\n",
    "            labels_distribution=False)"
   ]
  },
  {
   "cell_type": "code",
   "execution_count": null,
   "metadata": {},
   "outputs": [],
   "source": [
    "titles = ['Tracking-ADMM', 'DPMM', 'APAPC', 'Main']\n",
    "results = {title: {} for title in titles}\n",
    "\n",
    "output = TrackingADMM(num_steps=NUM_STEPS, model=model)\n",
    "results['Tracking-ADMM'] = output\n",
    "\n",
    "output = DPMM(num_steps=NUM_STEPS, model=model)\n",
    "results['DPMM'] = output\n",
    "\n",
    "output = APAPC(num_steps=NUM_STEPS, model=model)\n",
    "results['APAPC'] = output\n",
    "\n",
    "output = Main(num_steps=NUM_STEPS, model=model)\n",
    "results['Main'] = output"
   ]
  },
  {
   "cell_type": "code",
   "execution_count": null,
   "metadata": {},
   "outputs": [],
   "source": [
    "lmbd_str = f'{model.lmbd:.1e}'.replace('e+0', 'e').replace('e-0', 'e-')\n",
    "filename = f'{graph}_lmbd-{lmbd_str}_n-{model.n}_d-{model.d}_m-{model.m}'\n",
    "filename_fig = 'figs/vfl/' + filename + '.pdf'\n",
    "filename_dump = 'dumps/vfl/' + filename + '.pkl'\n",
    "\n",
    "#results = load_object(filename_dump)\n",
    "\n",
    "fig, ax = plt.subplots(1, 3, figsize=(18, 5), sharey=True)\n",
    "\n",
    "for title in results.keys():\n",
    "    output = results[title]\n",
    "    x_vals = np.cumsum(output['grad_calls'])\n",
    "    y_vals = output['x_err']\n",
    "    ax[0].plot(x_vals, y_vals, label=title)\n",
    "ax[0].yaxis.set_tick_params(labelleft=True)\n",
    "#ax[0].set_xlim(left=0, right=10_000)\n",
    "#ax[0].set_ylim(bottom=1e-17, top=1e3)\n",
    "ax[0].set_yscale('log')\n",
    "ax[0].set_xlabel(\"Gradient calls\")\n",
    "ax[0].ticklabel_format(axis='x', style='sci', scilimits=(0, 0))\n",
    "\n",
    "for title in results.keys():\n",
    "    output = results[title]\n",
    "    x_vals = np.cumsum(output['mults_A'])\n",
    "    y_vals = output['x_err']\n",
    "    ax[1].plot(x_vals, y_vals, label=title)\n",
    "ax[1].yaxis.set_tick_params(labelleft=True)\n",
    "#ax[1].set_xlim(left=0, right=400_000)\n",
    "ax[1].set_yscale('log')\n",
    "ax[1].set_xlabel(\"Multiplications by $\\mathbf{A}$ and $\\mathbf{A}^T$\")\n",
    "ax[1].ticklabel_format(axis='x', style='sci', scilimits=(0, 0))\n",
    "\n",
    "for title in results.keys():\n",
    "    output = results[title]\n",
    "    x_vals = np.cumsum(output['communications'])\n",
    "    y_vals = output['x_err']\n",
    "    ax[2].plot(x_vals, y_vals, label=title)\n",
    "ax[2].yaxis.set_tick_params(labelleft=True)\n",
    "#ax[2].set_xlim(left=0, right=100_000)\n",
    "ax[2].set_yscale('log')\n",
    "ax[2].set_xlabel(\"Communications\")\n",
    "ax[2].ticklabel_format(axis='x', style='sci', scilimits=(0, 0))\n",
    "\n",
    "plt.legend(bbox_to_anchor=(1, 0.5), loc=\"center left\")\n",
    "fig.text(0, 0.5, r\"$\\| x^k - x^* \\|_2^2$\", va='center', rotation='vertical')\n",
    "graph_name = 'Ring' if graph == 'ring' else 'Erdős–Rényi'\n",
    "plt.suptitle(f\"{graph_name}, $\\lambda = {lmbd_str}$, $n = {model.n}$, $d_i = {model.d}$, $m = {model.m}$\", fontsize=24)\n",
    "plt.tight_layout()\n",
    "plt.savefig(filename_fig, bbox_inches='tight')\n",
    "save_object(results, filename_dump)\n",
    "plt.show()"
   ]
  },
  {
   "cell_type": "markdown",
   "metadata": {},
   "source": [
    "## Labels are distributed between devices"
   ]
  },
  {
   "cell_type": "markdown",
   "metadata": {},
   "source": [
    "$$ x_1 = \\begin{pmatrix} w_1 \\\\ z_1 \\end{pmatrix}, \\quad x_2 = \\begin{pmatrix} w_2 \\\\ z_2 \\end{pmatrix}, \\quad \\ldots, \\quad x_n = \\begin{pmatrix} w_n \\\\ z_n \\end{pmatrix} $$"
   ]
  },
  {
   "cell_type": "markdown",
   "metadata": {},
   "source": [
    "$$ f_i(x_i) = f_i(w_i, z_i) = \\frac{1}{2}\\|z_i - l_i\\|_2^2 + \\lambda \\|w_i\\|_2^2, \\quad i = 1, \\ldots, n $$"
   ]
  },
  {
   "cell_type": "markdown",
   "metadata": {},
   "source": [
    "$$ A_i = \\begin{pmatrix} \\mathbf{F}_i & \\mathbf{C}_i \\end{pmatrix}, \\qquad \\mathbf{C}_i = \\begin{pmatrix} \\mathbf{O}_{\\mathrm{dim}(z_i)} \\\\ \\vdots \\\\ -\\mathbf{I}_{\\mathrm{dim}(z_i)} \\\\ \\vdots \\\\ \\mathbf{O}_{\\mathrm{dim}(z_i)} \\end{pmatrix}, \\quad i = 1, \\ldots, n $$"
   ]
  },
  {
   "cell_type": "code",
   "execution_count": null,
   "metadata": {},
   "outputs": [],
   "source": [
    "np.random.seed(307)\n",
    "\n",
    "# mushrooms (8124, 112)\n",
    "# a9a       (32561, 123)\n",
    "# w8a       (49749, 300)\n",
    "# synthetic (sample_size, sample_size // 100)\n",
    "lmbd = 1e0\n",
    "sample_size = 1000\n",
    "NUM_STEPS = 100\n",
    "n = 2\n",
    "title = 'mushrooms' # a9a / w8a / synthetic\n",
    "graph = 'erdos-renyi'\n",
    "average_degree = 1\n",
    "\n",
    "model = VFL(n, lmbd=lmbd, title=title, sample_size=sample_size, \n",
    "            graph=graph, edge_prob=average_degree/sample_size, gossip=False,\n",
    "            labels_distribution=True) # !!!!"
   ]
  },
  {
   "cell_type": "code",
   "execution_count": null,
   "metadata": {},
   "outputs": [],
   "source": [
    "titles = ['Tracking-ADMM', 'DPMM', 'APAPC', 'Main']\n",
    "results = {title: {} for title in titles}\n",
    "\n",
    "output = TrackingADMM(num_steps=NUM_STEPS, model=model)\n",
    "results['Tracking-ADMM'] = output\n",
    "\n",
    "output = DPMM(num_steps=NUM_STEPS, model=model)\n",
    "results['DPMM'] = output\n",
    "\n",
    "output = APAPC(num_steps=NUM_STEPS, model=model)\n",
    "results['APAPC'] = output\n",
    "\n",
    "output = Main(num_steps=NUM_STEPS, model=model)\n",
    "results['Main'] = output"
   ]
  },
  {
   "cell_type": "code",
   "execution_count": null,
   "metadata": {},
   "outputs": [],
   "source": [
    "lmbd_str = f'{model.lmbd:.1e}'.replace('e+0', 'e').replace('e-0', 'e-')\n",
    "filename = f'{graph}_lmbd-{lmbd_str}_n-{model.n}_d-{model.d}_m-{model.m}'\n",
    "filename_fig = 'figs/vfl/' + filename + 'labels-distributed' + '.pdf'\n",
    "filename_dump = 'dumps/vfl/' + filename + 'labels-distributed' + '.pkl'\n",
    "\n",
    "#results = load_object(filename_dump)\n",
    "\n",
    "fig, ax = plt.subplots(1, 3, figsize=(18, 5), sharey=True)\n",
    "\n",
    "for title in results.keys():\n",
    "    output = results[title]\n",
    "    x_vals = np.cumsum(output['grad_calls'])\n",
    "    y_vals = output['x_err']\n",
    "    ax[0].plot(x_vals, y_vals, label=title)\n",
    "ax[0].yaxis.set_tick_params(labelleft=True)\n",
    "ax[0].set_xlim(left=0, right=10_000)\n",
    "ax[0].set_ylim(bottom=1e-17, top=1e3)\n",
    "ax[0].set_yscale('log')\n",
    "ax[0].set_xlabel(\"Gradient calls\")\n",
    "ax[0].ticklabel_format(axis='x', style='sci', scilimits=(0, 0))\n",
    "\n",
    "for title in results.keys():\n",
    "    output = results[title]\n",
    "    x_vals = np.cumsum(output['mults_A'])\n",
    "    y_vals = output['x_err']\n",
    "    ax[1].plot(x_vals, y_vals, label=title)\n",
    "ax[1].yaxis.set_tick_params(labelleft=True)\n",
    "ax[1].set_xlim(left=0, right=400_000)\n",
    "ax[1].set_ylim(bottom=1e-17, top=1e3)\n",
    "ax[1].set_yscale('log')\n",
    "ax[1].set_xlabel(\"Multiplications by $\\mathbf{A}$ and $\\mathbf{A}^T$\")\n",
    "ax[1].ticklabel_format(axis='x', style='sci', scilimits=(0, 0))\n",
    "\n",
    "for title in results.keys():\n",
    "    output = results[title]\n",
    "    x_vals = np.cumsum(output['communications'])\n",
    "    y_vals = output['x_err']\n",
    "    ax[2].plot(x_vals, y_vals, label=title)\n",
    "ax[2].yaxis.set_tick_params(labelleft=True)\n",
    "ax[2].set_xlim(left=0, right=100_000)\n",
    "ax[2].set_ylim(bottom=1e-17, top=1e3)\n",
    "ax[2].set_yscale('log')\n",
    "ax[2].set_xlabel(\"Communications\")\n",
    "ax[2].ticklabel_format(axis='x', style='sci', scilimits=(0, 0))\n",
    "\n",
    "plt.legend(bbox_to_anchor=(1, 0.5), loc=\"center left\")\n",
    "fig.text(0, 0.5, r\"$\\| x^k - x^* \\|_2^2$\", va='center', rotation='vertical')\n",
    "graph_name = 'Ring' if graph == 'ring' else 'Erdős–Rényi'\n",
    "plt.suptitle(f\"{graph_name}, $\\lambda = {lmbd_str}$, $n = {model.n}$, $d_i = {model.d}$, $m = {model.m}$\", fontsize=24)\n",
    "plt.tight_layout()\n",
    "plt.savefig(filename_fig, bbox_inches='tight')\n",
    "save_object(results, filename_dump)\n",
    "plt.show()"
   ]
  }
 ],
 "metadata": {
  "kernelspec": {
   "display_name": "base",
   "language": "python",
   "name": "python3"
  },
  "language_info": {
   "codemirror_mode": {
    "name": "ipython",
    "version": 3
   },
   "file_extension": ".py",
   "mimetype": "text/x-python",
   "name": "python",
   "nbconvert_exporter": "python",
   "pygments_lexer": "ipython3",
   "version": "3.11.8"
  }
 },
 "nbformat": 4,
 "nbformat_minor": 2
}
