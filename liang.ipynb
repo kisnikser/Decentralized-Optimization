{
 "cells": [
  {
   "cell_type": "markdown",
   "metadata": {},
   "source": [
    "# Importing"
   ]
  },
  {
   "cell_type": "code",
   "execution_count": 1,
   "metadata": {},
   "outputs": [],
   "source": [
    "import numpy as np\n",
    "from scipy.linalg import block_diag\n",
    "from matplotlib import pyplot as plt\n",
    "import networkx as nx\n",
    "import cvxpy as cp"
   ]
  },
  {
   "cell_type": "markdown",
   "metadata": {},
   "source": [
    "# Constants"
   ]
  },
  {
   "cell_type": "code",
   "execution_count": 3,
   "metadata": {},
   "outputs": [],
   "source": [
    "N = 12\n",
    "n_i = np.array([1 for i in range(N)])\n",
    "n = n_i.sum()\n",
    "p = 1\n",
    "q = 1\n",
    "m = p + q                       "
   ]
  },
  {
   "cell_type": "code",
   "execution_count": 5,
   "metadata": {},
   "outputs": [],
   "source": [
    "a = np.array([0.4, 0.4, 0.7, 0.6, 0.8, 0.4, 0.2, 0.1, 0.8, 0.2, 0.4, 0.6])\n",
    "\n",
    "b = np.array([-5, 3, 0, -7, 6, -8, -4, -5, 1, -8, -2, -8])\n",
    "\n",
    "c = np.array([0.1, 0.8, 0.3, 0.6, 1, 0.4, 0.7, 0.8, 0.4, 0.7, 0.1, 0.9])\n",
    "\n",
    "d = np.array([0.2, 0.3, 0.8, 0.5, 0.8, 0.4, 0.3, 0, 0.7, 0.4, 0.5, 0.6])\n",
    "\n",
    "pi = np.array([0.1, 0.3, 0.8, 0.7, 0.1, 0.1, 0.1, 0, 0.4, 0.7, 0.7, 0.5])\n",
    "\n",
    "zeta = np.array([-0.1, -0.6, -0.1, -0.1, -0.1, -0.1, -0.2, -0.2, -0.3, -0.3, -0.2, -0.3])\n",
    "\n",
    "gamma = np.array([0.8, 0.4, 0.1, -0.6, -0.6, -0.8, 0.8, 0.4, 0.1, -0.4, -0.7, 0.2])\n",
    "\n",
    "delta = np.array([0.5, -0.3, -0.2, -0.1, -0.4, 0.2, -0.1, 0.5, -0.1, 0.1, -0.3, -0.1])"
   ]
  },
  {
   "cell_type": "code",
   "execution_count": null,
   "metadata": {},
   "outputs": [],
   "source": [
    "a = np.random.uniform(0, 2, n)\n",
    "\n",
    "b = np.random.uniform(-5, 5, n)\n",
    "\n",
    "c = np.random.uniform(0, 2, n)\n",
    "\n",
    "d = np.random.uniform(0, 1, n)\n",
    "\n",
    "pi = np.random.uniform(0, 2, n)\n",
    "\n",
    "zeta = np.random.uniform(-2, 0, n)\n",
    "\n",
    "gamma = np.random.uniform(-1, 1, n)         \n",
    "\n",
    "delta = np.random.uniform(-2, 2, n)"
   ]
  },
  {
   "cell_type": "markdown",
   "metadata": {},
   "source": [
    "# Solving via CVXPY"
   ]
  },
  {
   "cell_type": "code",
   "execution_count": 6,
   "metadata": {},
   "outputs": [],
   "source": [
    "x = cp.Variable(n)\n",
    "\n",
    "func = 0\n",
    "ineq = 0\n",
    "eq = 0\n",
    "\n",
    "for i in range(N):\n",
    "    func += a[i] *  x[i] ** 2 + b[i] * x[i] + c[i] * cp.logistic(d[i] * x[i])\n",
    "    ineq += pi[i] * x[i] ** 2 + zeta[i]\n",
    "    eq += gamma[i] * x[i] + delta[i]\n",
    "\n",
    "obj = cp.Minimize(func)\n",
    "\n",
    "constraints = [ineq <= 0,\n",
    "               eq == 0,\n",
    "               x >= -1,\n",
    "               x <= 1]\n",
    "\n",
    "prob = cp.Problem(obj, constraints)"
   ]
  },
  {
   "cell_type": "code",
   "execution_count": 7,
   "metadata": {},
   "outputs": [
    {
     "data": {
      "text/plain": [
       "-45.40249370649316"
      ]
     },
     "execution_count": 7,
     "metadata": {},
     "output_type": "execute_result"
    }
   ],
   "source": [
    "prob.solve()"
   ]
  },
  {
   "cell_type": "code",
   "execution_count": 9,
   "metadata": {},
   "outputs": [
    {
     "data": {
      "text/plain": [
       "array([ 1.    , -0.9809, -0.0378,  0.9023, -1.    ,  1.    ,  0.9643,\n",
       "        1.    , -0.2241,  1.    ,  0.4423,  0.9902])"
      ]
     },
     "execution_count": 9,
     "metadata": {},
     "output_type": "execute_result"
    }
   ],
   "source": [
    "x_opt = x.value\n",
    "x_opt.round(4)"
   ]
  },
  {
   "cell_type": "code",
   "execution_count": 10,
   "metadata": {},
   "outputs": [
    {
     "data": {
      "text/plain": [
       "array([5.93424745, 2.93705611])"
      ]
     },
     "execution_count": 10,
     "metadata": {},
     "output_type": "execute_result"
    }
   ],
   "source": [
    "lambda_opt = np.array([constraints[0].dual_value, constraints[1].dual_value])\n",
    "lambda_opt"
   ]
  }
 ],
 "metadata": {
  "kernelspec": {
   "display_name": "base",
   "language": "python",
   "name": "python3"
  },
  "language_info": {
   "codemirror_mode": {
    "name": "ipython",
    "version": 3
   },
   "file_extension": ".py",
   "mimetype": "text/x-python",
   "name": "python",
   "nbconvert_exporter": "python",
   "pygments_lexer": "ipython3",
   "version": "3.9.16"
  },
  "orig_nbformat": 4
 },
 "nbformat": 4,
 "nbformat_minor": 2
}
