{
 "cells": [
  {
   "cell_type": "markdown",
   "metadata": {},
   "source": [
    "Consider a network topology defined by an undirected graph $\\mathsf{G}$ with adjacency matrix $\\mathsf{A}$ and number of agents $n$.\n",
    "\n",
    "Note that $A_i \\in \\mathbb{R}^{m \\times d_i}$, $x_i \\in \\mathbb{R}^{d_i}$ and $b_i \\in \\mathbb{R}^m$.\n",
    "\n",
    "$$ \\sum\\limits_{i=1}^{n} (A_i x_i - b_i) = 0 $$"
   ]
  },
  {
   "cell_type": "markdown",
   "metadata": {},
   "source": [
    "---"
   ]
  },
  {
   "cell_type": "markdown",
   "metadata": {},
   "source": [
    "**Problem:**\n",
    "$$ \\sum\\limits_{i=1}^{n} b_i = b = \\sum\\limits_{i=1}^{n} \\widetilde{b}_i $$\n",
    "$$ \\widetilde{b}_i \\in \\mathrm{Im}A_i \\quad \\forall i = 1, \\ldots, n $$"
   ]
  },
  {
   "cell_type": "markdown",
   "metadata": {},
   "source": [
    "---"
   ]
  },
  {
   "cell_type": "markdown",
   "metadata": {},
   "source": [
    "**Comments:**\n",
    "- There's no point in checking in advance whether the vectors lie in images, because it's still $\\mathcal{O}(n^3)$\n",
    "- We start with a random agent but it does not affect the outcome of the method\n",
    "- We perform a DFS through the graph $\\mathsf{G}$\n",
    "- Number of communications is $\\mathcal{O}(n)$, which follows from DFS"
   ]
  },
  {
   "cell_type": "markdown",
   "metadata": {},
   "source": [
    "---"
   ]
  },
  {
   "cell_type": "markdown",
   "metadata": {},
   "source": [
    "**Algorithm:**\n",
    "1. select agent $i_1$ uniformly from $\\{1, ..., n\\}$\n",
    "2. solve linear system $A_{i_1} \\alpha_{i_1} = b$ using least squares, that is we obtain projection of vector $b$ onto the column space of matrix $A_{i_1}$ as $b_{\\|} = A_{i_1} \\alpha_{i_1} = A_{i_1} (A_{i_1}^\\top A_{i_1})^{-1} A_{i_1}^\\top b$\n",
    "3. check if the residual $b_{\\perp} = b - b_{\\|}$ is zero\n",
    "    - if $b_{\\perp} = 0$ then $\\widetilde{b}_{i_1} = b_{\\|}$ and other $\\widetilde{b}_j = 0$\n",
    "    - else $\\widetilde{b}_{i_1} = b_{\\|}$, select agent $i_2$ uniformly from the still unused neighbors of $i_1$ and repeat steps 2-3 with $A_{i_2} \\alpha_{i_2} = b_{\\perp}$\n",
    "4. (the last agent is considered) check if the residual $b_{\\perp}$ is zero\n",
    "    - if $b_{\\perp} = 0$ then $\\widetilde{b}_{i_n} = b_{\\|}$ and we got desired $\\widetilde{b}_1, \\ldots, \\widetilde{b}_n$\n",
    "    - else it turned out that $b$ does not decompose into bases of the considered spaces and the problem has no solution"
   ]
  },
  {
   "cell_type": "markdown",
   "metadata": {},
   "source": [
    "---"
   ]
  },
  {
   "cell_type": "code",
   "execution_count": 1,
   "metadata": {},
   "outputs": [],
   "source": [
    "import numpy as np\n",
    "import networkx as nx"
   ]
  },
  {
   "cell_type": "code",
   "execution_count": 2,
   "metadata": {},
   "outputs": [],
   "source": [
    "def DFS(graph, start, visited=None, visited_list=None):\n",
    "    if visited is None:\n",
    "        visited = set()\n",
    "    visited.add(start)\n",
    "\n",
    "    if visited_list is None:\n",
    "        visited_list = list()\n",
    "    if start not in visited_list:\n",
    "        visited_list.append(start)\n",
    "\n",
    "    #print(visited_list)\n",
    "\n",
    "    for next in set(graph[start]) - visited:\n",
    "        DFS(graph, next, visited, visited_list)\n",
    "\n",
    "    return visited_list"
   ]
  },
  {
   "cell_type": "code",
   "execution_count": 3,
   "metadata": {},
   "outputs": [],
   "source": [
    "def allocation(G, A_list, b_list):\n",
    "    n = G.number_of_nodes()\n",
    "    m = b_list.shape[1]\n",
    "\n",
    "    b = b_list.sum(axis=0)\n",
    "    b_copy = b.copy()\n",
    "    b_tilde_list = np.zeros((n, m))\n",
    "\n",
    "    start = np.random.randint(n)\n",
    "    visited_list = DFS(G, start)\n",
    "\n",
    "    print(visited_list)\n",
    "\n",
    "    for agent in visited_list:\n",
    "        #b_parallel = A_list[agent] @ np.linalg.inv((A_list[agent].T @ A_list[agent])) @ A_list[agent].T @ b_copy\n",
    "        b_parallel = A_list[agent] @ np.linalg.pinv(A_list[agent]) @ b_copy\n",
    "        b_perp = b_copy - b_parallel\n",
    "        b_tilde_list[agent] = b_parallel\n",
    "        if np.linalg.norm(b_perp) < 1e-9:\n",
    "            break\n",
    "        else:\n",
    "            b_copy = b_perp\n",
    "\n",
    "    if not np.linalg.norm(b_perp) < 1e-9:\n",
    "        print(\"Нет решения\")\n",
    "        return None\n",
    "\n",
    "    return b_tilde_list"
   ]
  },
  {
   "cell_type": "markdown",
   "metadata": {},
   "source": [
    "---"
   ]
  },
  {
   "cell_type": "markdown",
   "metadata": {},
   "source": [
    "**Test 1 (solution exists):**\n",
    "- Network topology: $K_3$\n",
    "- $n = 3$\n",
    "- $m = 3$\n",
    "- $d_1 = 3$\n",
    "- $d_2 = 2$\n",
    "- $d_3 = 4$\n",
    "- $A_1 = \\begin{pmatrix} 0 & 0 & 0 \\\\ 1 & 0 & 0 \\\\ 0 & 1 & 0 \\end{pmatrix}$, $b_1 = \\begin{pmatrix} 1 \\\\ 0 \\\\ 0 \\end{pmatrix}$\n",
    "- $A_2 = \\begin{pmatrix} 1 & 0 \\\\ 0 & 0 \\\\ 0 & 1 \\end{pmatrix}$, $b_2 = \\begin{pmatrix} 0 \\\\ 1 \\\\ 0 \\end{pmatrix}$\n",
    "- $A_3 = \\begin{pmatrix} 1 & 0 & 0 & 0 \\\\ 0 & 1 & 0 & 0 \\\\ 0 & 0 & 0 & 0 \\end{pmatrix}$, $b_3 = \\begin{pmatrix} 0 \\\\ 0 \\\\ 1 \\end{pmatrix}$\n"
   ]
  },
  {
   "cell_type": "code",
   "execution_count": 4,
   "metadata": {},
   "outputs": [],
   "source": [
    "A = np.array(\n",
    "    [[0, 1, 1],\n",
    "     [1, 0, 1],\n",
    "     [1, 1, 0]]\n",
    ")\n",
    "\n",
    "G = nx.from_numpy_array(A)\n",
    "\n",
    "n = A.shape[0]\n",
    "m = 3\n",
    "d = np.array([3, 2, 4])\n",
    "\n",
    "A1 = np.array([[0, 0, 0],\n",
    "               [1, 0, 0],\n",
    "               [0, 1, 0]])\n",
    "A2 = np.array([[1, 0],\n",
    "               [0, 0],\n",
    "               [0, 1]])\n",
    "A3 = np.array([[1, 0, 0, 0],\n",
    "               [0, 1, 0, 0],\n",
    "               [0, 0, 0, 0]])\n",
    "\n",
    "A_list = [A1, A2, A3]\n",
    "\n",
    "b1 = np.array([1, 0, 0])\n",
    "b2 = np.array([0, 1, 0])\n",
    "b3 = np.array([0, 0, 1])\n",
    "\n",
    "b_list = np.array([b1, b2, b3])"
   ]
  },
  {
   "cell_type": "code",
   "execution_count": 27,
   "metadata": {},
   "outputs": [
    {
     "name": "stdout",
     "output_type": "stream",
     "text": [
      "[2, 0, 1]\n"
     ]
    },
    {
     "data": {
      "text/plain": [
       "array([[0., 0., 1.],\n",
       "       [0., 0., 1.],\n",
       "       [1., 0., 0.]])"
      ]
     },
     "execution_count": 27,
     "metadata": {},
     "output_type": "execute_result"
    }
   ],
   "source": [
    "allocation(G, A_list, b_list).T"
   ]
  },
  {
   "cell_type": "markdown",
   "metadata": {},
   "source": [
    "---"
   ]
  },
  {
   "cell_type": "markdown",
   "metadata": {},
   "source": [
    "**Test 2 (solution doesn't exist):**\n",
    "- Network topology: $K_3$\n",
    "- $n = 3$\n",
    "- $m = 3$\n",
    "- $d_1 = 3$\n",
    "- $d_2 = 2$\n",
    "- $d_3 = 4$\n",
    "- $A_1 = \\begin{pmatrix} 1 & 0 & 0 \\\\ 0 & 1 & 0 \\\\ 0 & 0 & 0 \\end{pmatrix}$, $b_1 = \\begin{pmatrix} 1 \\\\ 0 \\\\ 0 \\end{pmatrix}$\n",
    "- $A_2 = \\begin{pmatrix} 1 & 0 \\\\ 0 & 1 \\\\ 0 & 0 \\end{pmatrix}$, $b_2 = \\begin{pmatrix} 0 \\\\ 1 \\\\ 0 \\end{pmatrix}$\n",
    "- $A_3 = \\begin{pmatrix} 1 & 0 & 0 & 0 \\\\ 0 & 1 & 0 & 0 \\\\ 0 & 0 & 0 & 0 \\end{pmatrix}$, $b_3 = \\begin{pmatrix} 0 \\\\ 0 \\\\ 1 \\end{pmatrix}$\n"
   ]
  },
  {
   "cell_type": "code",
   "execution_count": 28,
   "metadata": {},
   "outputs": [],
   "source": [
    "A = np.array(\n",
    "    [[0, 1, 1],\n",
    "     [1, 0, 1],\n",
    "     [1, 1, 0]]\n",
    ")\n",
    "\n",
    "G = nx.from_numpy_array(A)\n",
    "\n",
    "n = A.shape[0]\n",
    "m = 3\n",
    "d = np.array([3, 2, 4])\n",
    "\n",
    "A1 = np.array([[1, 0, 0],\n",
    "               [0, 1, 0],\n",
    "               [0, 0, 0]])\n",
    "A2 = np.array([[1, 0],\n",
    "               [0, 1],\n",
    "               [0, 0]])\n",
    "A3 = np.array([[1, 0, 0, 0],\n",
    "               [0, 1, 0, 0],\n",
    "               [0, 0, 0, 0]])\n",
    "\n",
    "A_list = [A1, A2, A3]\n",
    "\n",
    "b1 = np.array([1, 0, 0])\n",
    "b2 = np.array([0, 1, 0])\n",
    "b3 = np.array([0, 0, 1])\n",
    "\n",
    "b_list = np.array([b1, b2, b3])"
   ]
  },
  {
   "cell_type": "code",
   "execution_count": 35,
   "metadata": {},
   "outputs": [
    {
     "name": "stdout",
     "output_type": "stream",
     "text": [
      "[2, 0, 1]\n",
      "Нет решения\n"
     ]
    }
   ],
   "source": [
    "allocation(G, A_list, b_list)"
   ]
  },
  {
   "cell_type": "markdown",
   "metadata": {},
   "source": [
    "---"
   ]
  },
  {
   "cell_type": "markdown",
   "metadata": {},
   "source": [
    "**Test 3 (randomly generated for n=20):**"
   ]
  },
  {
   "cell_type": "code",
   "execution_count": 36,
   "metadata": {},
   "outputs": [],
   "source": [
    "A = np.array(\n",
    "    [[0, 1, 0, 0, 1, 0, 0, 0, 0, 0, 0, 0, 0, 0, 0, 0, 0, 0, 0, 0],\n",
    "     [1, 0, 0, 0, 0, 0, 0, 0, 0, 0, 0, 0, 0, 0, 0, 0, 0, 0, 0, 0],\n",
    "     [0, 0, 0, 0, 0, 0, 0, 1, 0, 0, 1, 0, 0, 0, 1, 0, 0, 0, 0, 1],\n",
    "     [0, 0, 0, 0, 0, 0, 0, 0, 0, 0, 0, 1, 0, 1, 0, 0, 1, 0, 1, 0],\n",
    "     [1, 0, 0, 0, 0, 0, 0, 0, 0, 0, 0, 1, 0, 0, 0, 0, 0, 0, 0, 0],\n",
    "     [0, 0, 0, 0, 0, 0, 1, 0, 1, 0, 0, 0, 0, 0, 0, 0, 0, 0, 0, 0],\n",
    "     [0, 0, 0, 0, 0, 1, 0, 0, 1, 0, 0, 0, 0, 0, 0, 0, 0, 0, 1, 0],\n",
    "     [0, 0, 1, 0, 0, 0, 0, 0, 0, 0, 0, 0, 1, 0, 0, 0, 0, 0, 0, 0],\n",
    "     [0, 0, 0, 0, 0, 1, 1, 0, 0, 0, 0, 0, 0, 0, 0, 0, 0, 0, 0, 0],\n",
    "     [0, 0, 0, 0, 0, 0, 0, 0, 0, 0, 0, 0, 0, 1, 0, 1, 0, 1, 0, 0],\n",
    "     [0, 0, 1, 0, 0, 0, 0, 0, 0, 0, 0, 0, 0, 0, 0, 0, 0, 0, 0, 0],\n",
    "     [0, 0, 0, 1, 1, 0, 0, 0, 0, 0, 0, 0, 0, 0, 0, 0, 0, 0, 0, 0],\n",
    "     [0, 0, 0, 0, 0, 0, 0, 1, 0, 0, 0, 0, 0, 0, 0, 0, 1, 0, 0, 0],\n",
    "     [0, 0, 0, 1, 0, 0, 0, 0, 0, 1, 0, 0, 0, 0, 0, 0, 1, 0, 0, 0],\n",
    "     [0, 0, 1, 0, 0, 0, 0, 0, 0, 0, 0, 0, 0, 0, 0, 0, 0, 0, 0, 1],\n",
    "     [0, 0, 0, 0, 0, 0, 0, 0, 0, 1, 0, 0, 0, 0, 0, 0, 0, 1, 0, 0],\n",
    "     [0, 0, 0, 1, 0, 0, 0, 0, 0, 0, 0, 0, 1, 1, 0, 0, 0, 0, 0, 0],\n",
    "     [0, 0, 0, 0, 0, 0, 0, 0, 0, 1, 0, 0, 0, 0, 0, 1, 0, 0, 0, 0],\n",
    "     [0, 0, 0, 1, 0, 0, 1, 0, 0, 0, 0, 0, 0, 0, 0, 0, 0, 0, 0, 0],\n",
    "     [0, 0, 1, 0, 0, 0, 0, 0, 0, 0, 0, 0, 0, 0, 1, 0, 0, 0, 0, 0]]\n",
    ")\n",
    "\n",
    "G = nx.from_numpy_array(A)\n",
    "\n",
    "n = A.shape[0]\n",
    "m = 10\n",
    "d = np.random.randint(low=10, high=20, size=n)\n",
    "\n",
    "A_list = [np.random.randn(m, d[i]) for i in range(n)]\n",
    "\n",
    "b_list = np.array([np.random.randn(m) for _ in range(n)])"
   ]
  },
  {
   "cell_type": "code",
   "execution_count": 37,
   "metadata": {},
   "outputs": [
    {
     "data": {
      "text/plain": [
       "array([-3.0923612 , -0.05320466, -0.78947207, -1.95728932, -6.35763679,\n",
       "       -8.23552193, -4.82314008,  1.98430979, -1.55633952,  3.3166136 ])"
      ]
     },
     "execution_count": 37,
     "metadata": {},
     "output_type": "execute_result"
    }
   ],
   "source": [
    "b_list.sum(axis=0)"
   ]
  },
  {
   "cell_type": "code",
   "execution_count": 38,
   "metadata": {},
   "outputs": [
    {
     "name": "stdout",
     "output_type": "stream",
     "text": [
      "[7, 2, 10, 19, 14, 12, 16, 3, 18, 6, 8, 5, 11, 4, 0, 1, 13, 9, 17, 15]\n"
     ]
    },
    {
     "data": {
      "text/plain": [
       "array([-3.0923612 , -0.05320466, -0.78947207, -1.95728932, -6.35763679,\n",
       "       -8.23552193, -4.82314008,  1.98430979, -1.55633952,  3.3166136 ])"
      ]
     },
     "execution_count": 38,
     "metadata": {},
     "output_type": "execute_result"
    }
   ],
   "source": [
    "allocation(G, A_list, b_list).sum(axis=0)"
   ]
  }
 ],
 "metadata": {
  "kernelspec": {
   "display_name": "base",
   "language": "python",
   "name": "python3"
  },
  "language_info": {
   "codemirror_mode": {
    "name": "ipython",
    "version": 3
   },
   "file_extension": ".py",
   "mimetype": "text/x-python",
   "name": "python",
   "nbconvert_exporter": "python",
   "pygments_lexer": "ipython3",
   "version": "3.9.16"
  },
  "orig_nbformat": 4
 },
 "nbformat": 4,
 "nbformat_minor": 2
}
