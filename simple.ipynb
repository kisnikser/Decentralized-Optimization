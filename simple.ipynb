{
 "cells": [
  {
   "cell_type": "code",
   "execution_count": 52,
   "metadata": {},
   "outputs": [],
   "source": [
    "import numpy as np\n",
    "from matplotlib import pyplot as plt\n",
    "import cvxpy as cp\n",
    "\n",
    "plt.rcParams.update({'font.size': 14})"
   ]
  },
  {
   "cell_type": "markdown",
   "metadata": {},
   "source": [
    "Constants"
   ]
  },
  {
   "cell_type": "code",
   "execution_count": 53,
   "metadata": {},
   "outputs": [],
   "source": [
    "n = 2\n",
    "m = 6\n",
    "p = 1\n",
    "q = 1"
   ]
  },
  {
   "cell_type": "markdown",
   "metadata": {},
   "source": [
    "Step size $\\alpha_k = \\dfrac{2}{(k+1)^{0.6}}$"
   ]
  },
  {
   "cell_type": "code",
   "execution_count": 54,
   "metadata": {},
   "outputs": [],
   "source": [
    "def step(k):\n",
    "    return 2 / ((k+1)**(0.6))"
   ]
  },
  {
   "cell_type": "markdown",
   "metadata": {},
   "source": [
    "Communication graph (period = 4)\n",
    "\n",
    "![image.png](attachment:image.png)"
   ]
  },
  {
   "cell_type": "markdown",
   "metadata": {},
   "source": [
    "Adjacency matrices"
   ]
  },
  {
   "cell_type": "code",
   "execution_count": 55,
   "metadata": {},
   "outputs": [],
   "source": [
    "E0 = np.array([[1, 1, 1, 1, 0, 1],\n",
    "               [0, 1, 0, 0, 0, 0],\n",
    "               [0, 0, 1, 0, 0, 0],\n",
    "               [0, 0, 0, 1, 1, 1],\n",
    "               [0, 0, 1, 0, 1, 0],\n",
    "               [1, 0, 0, 0, 0, 1]])"
   ]
  },
  {
   "cell_type": "code",
   "execution_count": 56,
   "metadata": {},
   "outputs": [],
   "source": [
    "E1 = np.array([[1, 1, 1, 0, 0, 0],\n",
    "               [1, 1, 0, 0, 0, 1],\n",
    "               [0, 0, 1, 0, 0, 0],\n",
    "               [0, 0, 0, 1, 0, 0],\n",
    "               [0, 0, 0, 0, 1, 0],\n",
    "               [0, 0, 0, 1, 0, 1]])"
   ]
  },
  {
   "cell_type": "code",
   "execution_count": 57,
   "metadata": {},
   "outputs": [],
   "source": [
    "E2 = np.array([[1, 0, 0, 0, 0, 0],\n",
    "               [1, 1, 0, 0, 0, 0],\n",
    "               [0, 0, 1, 0, 0, 0],\n",
    "               [0, 1, 1, 1, 0, 0],\n",
    "               [1, 0, 0, 0, 1, 1],\n",
    "               [0, 0, 0, 1, 0, 1]])"
   ]
  },
  {
   "cell_type": "code",
   "execution_count": 58,
   "metadata": {},
   "outputs": [],
   "source": [
    "E3 = np.array([[1, 0, 0, 0, 0, 0],\n",
    "               [0, 1, 0, 0, 0, 0],\n",
    "               [0, 0, 1, 0, 0, 1],\n",
    "               [1, 0, 0, 1, 0, 0],\n",
    "               [0, 0, 1, 0, 1, 0],\n",
    "               [0, 0, 1, 0, 1, 1]])"
   ]
  },
  {
   "cell_type": "code",
   "execution_count": 59,
   "metadata": {},
   "outputs": [],
   "source": [
    "def E(k):\n",
    "    if k % 4 == 0:\n",
    "        return E0.T\n",
    "    elif k % 4 == 1:\n",
    "        return E1.T\n",
    "    elif k % 4 == 2:\n",
    "        return E2.T\n",
    "    elif k % 4 == 3:\n",
    "        return E3.T"
   ]
  },
  {
   "cell_type": "markdown",
   "metadata": {},
   "source": [
    "Objective functions and constraints"
   ]
  },
  {
   "cell_type": "code",
   "execution_count": 60,
   "metadata": {},
   "outputs": [],
   "source": [
    "a = np.array([[0.4, 0.4],\n",
    "              [0.7, 0.6],\n",
    "              [0.8, 0.4],\n",
    "              [0.2, 0.1],\n",
    "              [0.8, 0.2],\n",
    "              [0.4, 0.6]])\n",
    "\n",
    "b = np.array([-5, 3, 0, -7, 6, -8])\n",
    "\n",
    "c = np.array([0.1, 0.8, 0.3, 0.6, 1, 0.4])\n",
    "\n",
    "d = np.array([[0.2, 0.3],\n",
    "              [0.8, 0.5],\n",
    "              [0.8, 0.4],\n",
    "              [0.3, 0],\n",
    "              [0.7, 0.4],\n",
    "              [0.5, 0.6]])\n",
    "\n",
    "alpha = np.array([0.1, 0.3, 0.8, 0.7, 0.1, 0.1])\n",
    "\n",
    "beta = np.array([-0.1, -0.6, -0.1, -0.1, -0.1, -0.1])\n",
    "\n",
    "gamma = np.array([[0.8, 0.4],\n",
    "                  [0.1, -0.6],\n",
    "                  [-0.6, -0.8],\n",
    "                  [0.8, 0.4],\n",
    "                  [0.1, -0.4],\n",
    "                  [-0.7, 0.2]])\n",
    "\n",
    "delta = np.array([0.5, -0.3, -0.2, -0.1, -0.4, 0.2])"
   ]
  },
  {
   "cell_type": "code",
   "execution_count": 61,
   "metadata": {},
   "outputs": [],
   "source": [
    "def f(i, x):\n",
    "    return a[i] @ x + b[i] + c[i] * np.log(1 + np.exp(d[i] @ x))\n",
    "\n",
    "def h1(i, x):\n",
    "    return alpha[i] * np.linalg.norm(x) ** 2 + beta[i]\n",
    "\n",
    "def h2(i, x):\n",
    "    return gamma[i] @ x + delta[i]\n",
    "\n",
    "def h(i, x):\n",
    "    return np.array([h1(i, x), h2(i, x)])\n",
    "\n",
    "def F(x):\n",
    "    return np.sum([f(i, x) for i in range(m)])"
   ]
  },
  {
   "cell_type": "markdown",
   "metadata": {},
   "source": [
    "Gossip matrices"
   ]
  },
  {
   "cell_type": "code",
   "execution_count": 62,
   "metadata": {},
   "outputs": [],
   "source": [
    "def N_in(k, i):\n",
    "    return np.sum(E(k)[i])\n",
    "\n",
    "def N_out(k, j):\n",
    "    return np.sum(E(k)[:, j])"
   ]
  },
  {
   "cell_type": "code",
   "execution_count": 63,
   "metadata": {},
   "outputs": [],
   "source": [
    "def A(k):\n",
    "    A = np.zeros((m, m))\n",
    "    for i in range(m):\n",
    "        for j in range(m):\n",
    "            if E(k)[i, j] == 1:\n",
    "                A[i, j] = 1 / N_in(k, i)\n",
    "    return A\n",
    "\n",
    "def B(k):\n",
    "    B = np.zeros((m, m))\n",
    "    for i in range(m):\n",
    "        for j in range(m):\n",
    "            if E(k)[i, j] == 1:\n",
    "                B[i, j] = 1 / N_out(k, j)\n",
    "    return B"
   ]
  },
  {
   "cell_type": "code",
   "execution_count": 64,
   "metadata": {},
   "outputs": [
    {
     "data": {
      "text/plain": [
       "array([[1, 1, 0, 0, 0, 0],\n",
       "       [1, 1, 0, 0, 0, 0],\n",
       "       [1, 0, 1, 0, 0, 0],\n",
       "       [0, 0, 0, 1, 0, 1],\n",
       "       [0, 0, 0, 0, 1, 0],\n",
       "       [0, 1, 0, 0, 0, 1]])"
      ]
     },
     "execution_count": 64,
     "metadata": {},
     "output_type": "execute_result"
    }
   ],
   "source": [
    "E(1)"
   ]
  },
  {
   "cell_type": "code",
   "execution_count": 65,
   "metadata": {},
   "outputs": [
    {
     "data": {
      "text/plain": [
       "2"
      ]
     },
     "execution_count": 65,
     "metadata": {},
     "output_type": "execute_result"
    }
   ],
   "source": [
    "N_in(1, 2)"
   ]
  },
  {
   "cell_type": "code",
   "execution_count": 66,
   "metadata": {},
   "outputs": [
    {
     "data": {
      "text/plain": [
       "array([[0.5, 0.5, 0. , 0. , 0. , 0. ],\n",
       "       [0.5, 0.5, 0. , 0. , 0. , 0. ],\n",
       "       [0.5, 0. , 0.5, 0. , 0. , 0. ],\n",
       "       [0. , 0. , 0. , 0.5, 0. , 0.5],\n",
       "       [0. , 0. , 0. , 0. , 1. , 0. ],\n",
       "       [0. , 0.5, 0. , 0. , 0. , 0.5]])"
      ]
     },
     "execution_count": 66,
     "metadata": {},
     "output_type": "execute_result"
    }
   ],
   "source": [
    "A(1)"
   ]
  },
  {
   "cell_type": "code",
   "execution_count": 117,
   "metadata": {},
   "outputs": [],
   "source": [
    "def grad_f(i, x):\n",
    "    return a[i] + ((np.exp(d[i] @ x) * c[i]) / (1 + np.exp(d[i] @ x))) * d[i]\n",
    "\n",
    "def grad_h1(i, x):\n",
    "    return 2 * alpha[i] * x\n",
    "\n",
    "def grad_h2(i, x):\n",
    "    return gamma[i]\n",
    "\n",
    "def grad_h(i, x):\n",
    "    return np.vstack((grad_h1(i, x), grad_h2(i, x)))"
   ]
  },
  {
   "cell_type": "markdown",
   "metadata": {},
   "source": [
    "Projections"
   ]
  },
  {
   "cell_type": "code",
   "execution_count": 118,
   "metadata": {},
   "outputs": [],
   "source": [
    "def P_cut(a, b, c):\n",
    "    if c < a:\n",
    "        return a\n",
    "    elif a <= c <= b:\n",
    "        return c\n",
    "    elif c > b:\n",
    "        return b"
   ]
  },
  {
   "cell_type": "code",
   "execution_count": 119,
   "metadata": {},
   "outputs": [],
   "source": [
    "def P_X(x):\n",
    "    return np.array([P_cut(-3, 3, x[0]), P_cut(-3, 3, x[1])])"
   ]
  },
  {
   "cell_type": "code",
   "execution_count": 120,
   "metadata": {},
   "outputs": [],
   "source": [
    "def P_Q(lmbd):\n",
    "    p1 = lmbd[0] if lmbd[0] >= 0 else 0\n",
    "    p2 = lmbd[1]\n",
    "    return np.array([p1, p2])"
   ]
  },
  {
   "cell_type": "markdown",
   "metadata": {},
   "source": [
    "# Gossip GD"
   ]
  },
  {
   "cell_type": "code",
   "execution_count": 90,
   "metadata": {},
   "outputs": [],
   "source": [
    "def GossipGD(n_iter, x0):\n",
    "    k = 0\n",
    "    x_k = np.zeros((n_iter, m, 2))\n",
    "    v_k = np.zeros((n_iter, m, 2))\n",
    "    \n",
    "    x_k[0] = x0\n",
    "\n",
    "    while k <= n_iter-2:\n",
    "        v_k[k] = A(k) @ x_k[k]\n",
    "        for i in range(m):\n",
    "            x_k[k+1][i] = P_X(v_k[k][i] - step(k) * grad_f(i, x_k[k][i]))\n",
    "        k = k+1\n",
    "    \n",
    "    return x_k"
   ]
  },
  {
   "cell_type": "code",
   "execution_count": 130,
   "metadata": {},
   "outputs": [],
   "source": [
    "n_iter = 100\n",
    "x0 = np.zeros((6, 2))"
   ]
  },
  {
   "cell_type": "code",
   "execution_count": 131,
   "metadata": {},
   "outputs": [],
   "source": [
    "x_k = GossipGD(n_iter, x0)"
   ]
  },
  {
   "cell_type": "markdown",
   "metadata": {},
   "source": [
    "Last iteration"
   ]
  },
  {
   "cell_type": "code",
   "execution_count": 132,
   "metadata": {},
   "outputs": [
    {
     "data": {
      "text/plain": [
       "array([[-3., -3.],\n",
       "       [-3., -3.],\n",
       "       [-3., -3.],\n",
       "       [-3., -3.],\n",
       "       [-3., -3.],\n",
       "       [-3., -3.]])"
      ]
     },
     "execution_count": 132,
     "metadata": {},
     "output_type": "execute_result"
    }
   ],
   "source": [
    "x_k[-1]"
   ]
  },
  {
   "cell_type": "markdown",
   "metadata": {},
   "source": [
    "Some plots :("
   ]
  },
  {
   "cell_type": "code",
   "execution_count": 133,
   "metadata": {},
   "outputs": [
    {
     "data": {
      "text/plain": [
       "Text(0, 0.5, '$\\\\| x_i^k - x^* \\\\|$')"
      ]
     },
     "execution_count": 133,
     "metadata": {},
     "output_type": "execute_result"
    },
    {
     "data": {
      "image/png": "[encoded data removed]",
      "text/plain": [
       "<Figure size 2000x500 with 1 Axes>"
      ]
     },
     "metadata": {},
     "output_type": "display_data"
    }
   ],
   "source": [
    "plt.figure(figsize=(20, 5))\n",
    "\n",
    "for i in range(m):\n",
    "    plt.plot(range(x_k.shape[0]-1), [np.linalg.norm(x_k[k][i] - x_opt) for k in range(x_k.shape[0]-1)], label=f\"Agent {i+1}\")\n",
    "    \n",
    "#plt.xlim(0, 100)\n",
    "plt.yscale('log')\n",
    "plt.legend()\n",
    "#plt.title(\"Primal variable\")\n",
    "plt.xlabel(\"iteration k\")\n",
    "plt.ylabel(\"$\\| x_i^k - x^* \\|$\")"
   ]
  },
  {
   "cell_type": "markdown",
   "metadata": {},
   "source": [
    "Solving via CVXPY"
   ]
  },
  {
   "cell_type": "code",
   "execution_count": 43,
   "metadata": {},
   "outputs": [],
   "source": [
    "x = cp.Variable(2)\n",
    "\n",
    "f0 = a[0] @ x + b[0] + c[0] * cp.logistic(d[0] @ x)\n",
    "f1 = a[1] @ x + b[1] + c[1] * cp.logistic(d[1] @ x)\n",
    "f2 = a[2] @ x + b[2] + c[2] * cp.logistic(d[2] @ x)\n",
    "f3 = a[3] @ x + b[3] + c[3] * cp.logistic(d[3] @ x)\n",
    "f4 = a[4] @ x + b[4] + c[4] * cp.logistic(d[4] @ x)\n",
    "f5 = a[5] @ x + b[5] + c[5] * cp.logistic(d[5] @ x)\n",
    "f = f0 + f1 + f2 + f3 + f4 + f5\n",
    "\n",
    "obj = cp.Minimize(f)\n",
    "\n",
    "constraints = [x[0] >= -3,\n",
    "               x[0] <= 3,\n",
    "               x[1] >= -3,\n",
    "               x[1] <= 3]\n",
    "\n",
    "prob = cp.Problem(obj, constraints)"
   ]
  },
  {
   "cell_type": "code",
   "execution_count": 44,
   "metadata": {},
   "outputs": [
    {
     "data": {
      "text/plain": [
       "-27.50034040306943"
      ]
     },
     "execution_count": 44,
     "metadata": {},
     "output_type": "execute_result"
    }
   ],
   "source": [
    "prob.solve()"
   ]
  },
  {
   "cell_type": "code",
   "execution_count": 45,
   "metadata": {},
   "outputs": [
    {
     "data": {
      "text/plain": [
       "array([-2.99999999, -2.99999999])"
      ]
     },
     "execution_count": 45,
     "metadata": {},
     "output_type": "execute_result"
    }
   ],
   "source": [
    "x.value"
   ]
  },
  {
   "cell_type": "code",
   "execution_count": 46,
   "metadata": {},
   "outputs": [],
   "source": [
    "x_opt = x.value"
   ]
  },
  {
   "cell_type": "code",
   "execution_count": 47,
   "metadata": {},
   "outputs": [
    {
     "data": {
      "text/plain": [
       "-27.50034040306943"
      ]
     },
     "execution_count": 47,
     "metadata": {},
     "output_type": "execute_result"
    }
   ],
   "source": [
    "prob.value"
   ]
  },
  {
   "cell_type": "markdown",
   "metadata": {},
   "source": [
    "# Gradient Tracking"
   ]
  },
  {
   "cell_type": "code",
   "execution_count": 134,
   "metadata": {},
   "outputs": [],
   "source": [
    "def GradientTracking(n_iter, x0):\n",
    "    k = 0\n",
    "\n",
    "    x_k = np.zeros((n_iter, m, 2))\n",
    "    v_k = np.zeros((n_iter, m, 2))\n",
    "\n",
    "    x_k[0] = x0\n",
    "\n",
    "    y_k = np.zeros((n_iter, m, 2))\n",
    "    z_k = np.zeros((n_iter, m, 2))\n",
    "    \n",
    "    for i in range(m):\n",
    "        y_k[0][i] = grad_f(i, x_k[0][i])\n",
    "\n",
    "    while k <= n_iter-2:\n",
    "        \n",
    "        for i in range(m):\n",
    "            v_k[k][i] = P_X(x_k[k][i] - step(k) * y_k[k][i])\n",
    "\n",
    "        x_k[k+1] = A(k) @ v_k[k]\n",
    "\n",
    "        for i in range(m):\n",
    "            z_k[k][i] = y_k[k][i] + grad_f(i, x_k[k+1][i]) - grad_f(i, x_k[k][i])\n",
    "\n",
    "        y_k[k+1] = B(k) @ z_k[k]\n",
    "\n",
    "        k = k+1\n",
    "    \n",
    "    return x_k"
   ]
  },
  {
   "cell_type": "code",
   "execution_count": 139,
   "metadata": {},
   "outputs": [],
   "source": [
    "n_iter = 100\n",
    "x0 = np.zeros((6, 2))"
   ]
  },
  {
   "cell_type": "code",
   "execution_count": 140,
   "metadata": {},
   "outputs": [],
   "source": [
    "x_k = GradientTracking(n_iter, x0)"
   ]
  },
  {
   "cell_type": "markdown",
   "metadata": {},
   "source": [
    "Last iteration"
   ]
  },
  {
   "cell_type": "code",
   "execution_count": 141,
   "metadata": {},
   "outputs": [
    {
     "data": {
      "text/plain": [
       "array([[-3., -3.],\n",
       "       [-3., -3.],\n",
       "       [-3., -3.],\n",
       "       [-3., -3.],\n",
       "       [-3., -3.],\n",
       "       [-3., -3.]])"
      ]
     },
     "execution_count": 141,
     "metadata": {},
     "output_type": "execute_result"
    }
   ],
   "source": [
    "x_k[-1]"
   ]
  },
  {
   "cell_type": "markdown",
   "metadata": {},
   "source": [
    "Some plots :("
   ]
  },
  {
   "cell_type": "code",
   "execution_count": 142,
   "metadata": {},
   "outputs": [
    {
     "data": {
      "text/plain": [
       "Text(0, 0.5, '$\\\\| x_i^k - x^* \\\\|$')"
      ]
     },
     "execution_count": 142,
     "metadata": {},
     "output_type": "execute_result"
    },
    {
     "data": {
      "image/png": "[encoded data removed]",
      "text/plain": [
       "<Figure size 2000x500 with 1 Axes>"
      ]
     },
     "metadata": {},
     "output_type": "display_data"
    }
   ],
   "source": [
    "plt.figure(figsize=(20, 5))\n",
    "\n",
    "for i in range(m):\n",
    "    plt.plot(range(x_k.shape[0]-1), [np.linalg.norm(x_k[k][i] - x_opt) for k in range(x_k.shape[0]-1)], label=f\"Agent {i+1}\")\n",
    "    \n",
    "#plt.xlim(0, 100)\n",
    "plt.yscale('log')\n",
    "plt.legend()\n",
    "#plt.title(\"Primal variable\")\n",
    "plt.xlabel(\"iteration k\")\n",
    "plt.ylabel(\"$\\| x_i^k - x^* \\|$\")"
   ]
  },
  {
   "cell_type": "code",
   "execution_count": null,
   "metadata": {},
   "outputs": [],
   "source": []
  }
 ],
 "metadata": {
  "kernelspec": {
   "display_name": "base",
   "language": "python",
   "name": "python3"
  },
  "language_info": {
   "codemirror_mode": {
    "name": "ipython",
    "version": 3
   },
   "file_extension": ".py",
   "mimetype": "text/x-python",
   "name": "python",
   "nbconvert_exporter": "python",
   "pygments_lexer": "ipython3",
   "version": "3.9.16"
  },
  "orig_nbformat": 4
 },
 "nbformat": 4,
 "nbformat_minor": 2
}
